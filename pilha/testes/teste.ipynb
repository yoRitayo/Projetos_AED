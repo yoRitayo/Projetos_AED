{
 "cells": [
  {
   "cell_type": "code",
   "execution_count": 7,
   "metadata": {},
   "outputs": [],
   "source": [
    "class No:\n",
    "    def __init__(self, dado):\n",
    "        self.dado = dado\n",
    "        self.proximo = None"
   ]
  },
  {
   "cell_type": "code",
   "execution_count": 8,
   "metadata": {},
   "outputs": [],
   "source": [
    "class PilhaEstatica:\n",
    "    def __init__(self):\n",
    "        self.data = [3, 1, 4, 1, 5, 9, 2, 6, 5]\n",
    "\n",
    "    def __len__(self):\n",
    "        return len(self.data)\n",
    "\n",
    "    def is_empty(self):\n",
    "        return len(self.data) == 0\n",
    "\n",
    "    def push(self, e):\n",
    "        return self.data.append(e)\n",
    "\n",
    "    def top(self):\n",
    "        if self.is_empty() is False:\n",
    "            return self.data[-1]\n",
    "\n",
    "    def pop(self):\n",
    "        if self.is_empty() is False:\n",
    "            return self.data.pop()"
   ]
  },
  {
   "cell_type": "code",
   "execution_count": 9,
   "metadata": {},
   "outputs": [],
   "source": [
    "class PilhaDinamica:\n",
    "    def __init__(self):\n",
    "        self.cabeca = None\n",
    "\n",
    "    def __len__(self):\n",
    "        soma = 0\n",
    "        if self.cabeca is None:\n",
    "            return soma\n",
    "        noatual = self.cabeca\n",
    "        while noatual is not None:\n",
    "            noatual = noatual.proximo\n",
    "            soma += 1\n",
    "        return soma\n",
    "\n",
    "    def is_empty(self):\n",
    "        return self.cabeca is None\n",
    "\n",
    "    def push(self, data):\n",
    "        novono = No(data)\n",
    "        if self.is_empty() is True:\n",
    "            self.cabeca = novono\n",
    "            return\n",
    "        ultimono = self.cabeca  \n",
    "        while ultimono.proximo is not None:\n",
    "            ultimono = ultimono.proximo\n",
    "        ultimono.proximo = novono\n",
    "        #Aqui cê pode retornar o novono ou printá-lo\n",
    "\n",
    "    def top(self):\n",
    "        if self.is_empty() is True:\n",
    "            return\n",
    "        ultimono = self.cabeca\n",
    "        while ultimono.proximo is not None:\n",
    "            ultimono = ultimono.proximo\n",
    "        return ultimono.dado\n",
    "\n",
    "    def pop(self):\n",
    "        if self.is_empty() is True:\n",
    "            return\n",
    "        \n",
    "        novono = self.cabeca\n",
    "        anterior = None\n",
    "\n",
    "        while novono.proximo is not None:\n",
    "            anterior = novono\n",
    "            novono = novono.proximo\n",
    "\n",
    "        if anterior is not None:\n",
    "            anterior.proximo = None\n",
    "        else:\n",
    "            self.cabeca = None\n",
    "\n",
    "        return novono.dado\n",
    "    \n",
    "    def free(self):\n",
    "        self.cabeca = None\n",
    "        return"
   ]
  },
  {
   "cell_type": "code",
   "execution_count": 10,
   "metadata": {},
   "outputs": [],
   "source": [
    "def organize():\n",
    "    pilha_esta = PilhaEstatica()\n",
    "    pilha_temp = PilhaDinamica()\n",
    "\n",
    "    while not (pilha_esta.is_empty()):\n",
    "\n",
    "        if (pilha_temp.is_empty()):\n",
    "            pilha_temp.push(pilha_esta.pop())\n",
    "        \n",
    "        else:\n",
    "\n",
    "            topo = pilha_temp.top()\n",
    "            num_a_inserir = pilha_esta.pop()\n",
    "\n",
    "            while not (topo <= num_a_inserir):\n",
    "\n",
    "                topo_anterior = pilha_temp.pop()\n",
    "                var_temp = topo_anterior\n",
    "                pilha_esta.push(var_temp)\n",
    "\n",
    "                topo = pilha_temp.top()\n",
    "\n",
    "                if (pilha_temp.is_empty()):\n",
    "                    break\n",
    "            \n",
    "            pilha_temp.push(num_a_inserir)\n",
    "    \n",
    "    while not (pilha_temp.is_empty()):\n",
    "        pilha_esta.push(pilha_temp.pop())\n",
    "\n",
    "    print(pilha_esta.data)"
   ]
  },
  {
   "cell_type": "code",
   "execution_count": 11,
   "metadata": {},
   "outputs": [
    {
     "name": "stdout",
     "output_type": "stream",
     "text": [
      "[9, 6, 5, 5, 4, 3, 2, 1, 1]\n"
     ]
    }
   ],
   "source": [
    "organize()"
   ]
  }
 ],
 "metadata": {
  "kernelspec": {
   "display_name": "Python 3",
   "language": "python",
   "name": "python3"
  },
  "language_info": {
   "codemirror_mode": {
    "name": "ipython",
    "version": 3
   },
   "file_extension": ".py",
   "mimetype": "text/x-python",
   "name": "python",
   "nbconvert_exporter": "python",
   "pygments_lexer": "ipython3",
   "version": "3.11.9"
  }
 },
 "nbformat": 4,
 "nbformat_minor": 2
}
